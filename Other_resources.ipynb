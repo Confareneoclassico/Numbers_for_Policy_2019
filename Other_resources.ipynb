{
 "cells": [
  {
   "cell_type": "markdown",
   "metadata": {},
   "source": [
    "# Other resources"
   ]
  },
  {
   "cell_type": "markdown",
   "metadata": {},
   "source": [
    "## Fundamentals of Sensitivity Analysis\n",
    "\n",
    "Great piece of work on the fundamentals of sensitivity analysis by our colleague Leif Rune Hellevik (NTNU, Trondheim)\n",
    "\n",
    "[![Binder](https://mybinder.org/badge_logo.svg)](https://mybinder.org/v2/gh/lrhgit/uqsa_tutorials/master)"
   ]
  },
  {
   "cell_type": "markdown",
   "metadata": {},
   "source": [
    "## Mainstreaming Sensitivity Analysis and Uncertainty Auditing\n",
    "\n",
    "Collection of notebooks on uncertainty and quality in science for policy, sensitivity analysis, sensitivity auditing, \n",
    "mathematical and statistics foundation\n",
    "\n",
    "[![Binder](https://mybinder.org/badge_logo.svg)](https://mybinder.org/v2/gh/pbstark/Sensitivity-Sather/master)"
   ]
  },
  {
   "cell_type": "markdown",
   "metadata": {},
   "source": [
    "## To wetten your appetite...\n",
    "\n",
    "See you in Parma if you want to know more on **uncertainty and sensitivity analysis**\n",
    "\n",
    "![SAMO_2020](./SAMO_2020.png)\n",
    "\n",
    "![Parma](./Parma.jpg)"
   ]
  },
  {
   "cell_type": "markdown",
   "metadata": {},
   "source": [
    "# Click [here](https://ec.europa.eu/knowledge4policy/event/eleventh-summer-school-sensitivity-analysis-model-output-samo-2020_en) for more info"
   ]
  },
  {
   "cell_type": "code",
   "execution_count": null,
   "metadata": {},
   "outputs": [],
   "source": []
  }
 ],
 "metadata": {
  "kernelspec": {
   "display_name": "Python 3",
   "language": "python",
   "name": "python3"
  },
  "language_info": {
   "codemirror_mode": {
    "name": "ipython",
    "version": 3
   },
   "file_extension": ".py",
   "mimetype": "text/x-python",
   "name": "python",
   "nbconvert_exporter": "python",
   "pygments_lexer": "ipython3",
   "version": "3.7.2"
  }
 },
 "nbformat": 4,
 "nbformat_minor": 2
}
